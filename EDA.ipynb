{
 "cells": [
  {
   "metadata": {},
   "cell_type": "markdown",
   "source": [
    "## Data Fetch\n",
    "https://archive.ics.uci.edu/dataset/2/adult"
   ],
   "id": "f9c081bfb3177a21"
  },
  {
   "metadata": {
    "ExecuteTime": {
     "end_time": "2025-08-02T02:01:09.762734Z",
     "start_time": "2025-08-02T02:01:09.078867Z"
    }
   },
   "cell_type": "code",
   "source": "from ucimlrepo import fetch_ucirepo  # pip install ucimlrepo",
   "id": "9c4d9e2b1f87b1f0",
   "outputs": [],
   "execution_count": 1
  },
  {
   "metadata": {
    "ExecuteTime": {
     "end_time": "2025-08-02T02:01:12.317753Z",
     "start_time": "2025-08-02T02:01:09.767906Z"
    }
   },
   "cell_type": "code",
   "source": "adult = fetch_ucirepo(id=2)",
   "id": "a0988e1218e95dcf",
   "outputs": [],
   "execution_count": 2
  },
  {
   "metadata": {
    "ExecuteTime": {
     "end_time": "2025-08-02T02:01:12.567914Z",
     "start_time": "2025-08-02T02:01:12.563406Z"
    }
   },
   "cell_type": "code",
   "source": [
    "# data (as pandas dataframes)\n",
    "X = adult.data.features\n",
    "y = adult.data.targets"
   ],
   "id": "c6a3816147e3ad75",
   "outputs": [],
   "execution_count": 3
  },
  {
   "cell_type": "code",
   "id": "initial_id",
   "metadata": {
    "collapsed": true,
    "ExecuteTime": {
     "end_time": "2025-08-02T02:01:12.601231Z",
     "start_time": "2025-08-02T02:01:12.595694Z"
    }
   },
   "source": "print(X.dtypes)",
   "outputs": [
    {
     "name": "stdout",
     "output_type": "stream",
     "text": [
      "age                int64\n",
      "workclass         object\n",
      "fnlwgt             int64\n",
      "education         object\n",
      "education-num      int64\n",
      "marital-status    object\n",
      "occupation        object\n",
      "relationship      object\n",
      "race              object\n",
      "sex               object\n",
      "capital-gain       int64\n",
      "capital-loss       int64\n",
      "hours-per-week     int64\n",
      "native-country    object\n",
      "dtype: object\n"
     ]
    }
   ],
   "execution_count": 4
  },
  {
   "metadata": {
    "ExecuteTime": {
     "end_time": "2025-08-02T02:01:12.652348Z",
     "start_time": "2025-08-02T02:01:12.648526Z"
    }
   },
   "cell_type": "code",
   "source": "",
   "id": "89ba25d7f6310978",
   "outputs": [],
   "execution_count": null
  }
 ],
 "metadata": {
  "kernelspec": {
   "display_name": "Python 3",
   "language": "python",
   "name": "python3"
  },
  "language_info": {
   "codemirror_mode": {
    "name": "ipython",
    "version": 2
   },
   "file_extension": ".py",
   "mimetype": "text/x-python",
   "name": "python",
   "nbconvert_exporter": "python",
   "pygments_lexer": "ipython2",
   "version": "2.7.6"
  }
 },
 "nbformat": 4,
 "nbformat_minor": 5
}
